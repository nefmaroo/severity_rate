{
  "cells": [
    {
      "cell_type": "code",
      "execution_count": null,
      "metadata": {
        "id": "pPcQ1BLxA4C3"
      },
      "outputs": [],
      "source": [
        "!pip install transformers datasets accelerate\n",
        "!pip install sentencepiece \n",
        "!pip install nltk"
      ]
    },
    {
      "cell_type": "code",
      "execution_count": null,
      "metadata": {
        "id": "zOyEhpNRE401"
      },
      "outputs": [],
      "source": [
        "import os\n",
        "import math\n",
        "import random\n",
        "import numpy as np\n",
        "import pandas as pd\n",
        "import seaborn as sns\n",
        "import matplotlib.pyplot as plt\n",
        "\n",
        "import nltk\n",
        "nltk.download('stopwords')\n",
        "\n",
        "from nltk.corpus import stopwords\n",
        "from nltk.tokenize import TweetTokenizer\n",
        "\n",
        "import torch\n",
        "import torch.nn as nn\n",
        "from tqdm.auto import tqdm\n",
        "from accelerate import Accelerator\n",
        "from accelerate.utils import set_seed\n",
        "from torch.optim import lr_scheduler, AdamW \n",
        "from torch.utils.data import Dataset, DataLoader\n",
        "from transformers.models.deberta.modeling_deberta import ContextPooler\n",
        "from transformers import AutoTokenizer, AutoModel, AutoConfig, DataCollatorWithPadding, get_scheduler"
      ]
    },
    {
      "cell_type": "code",
      "execution_count": 3,
      "metadata": {
        "id": "oPKRD_DiPPU-"
      },
      "outputs": [],
      "source": [
        "def set_all_seed(seed=42):\n",
        "    random.seed(seed)\n",
        "    np.random.seed(seed)\n",
        "    torch.manual_seed(seed)\n",
        "    torch.cuda.manual_seed(seed)\n",
        "    torch.backends.cudnn.deterministic = True\n",
        "    torch.backends.cudnn.benchmark = False\n",
        "    os.environ['PYTHONHASHSEED'] = str(seed)\n",
        "    set_seed(seed)\n",
        "\n",
        "set_all_seed()"
      ]
    },
    {
      "cell_type": "markdown",
      "metadata": {
        "id": "9kRpPFOKNhtc"
      },
      "source": [
        "Load Data\n",
        "---------\n",
        "\n"
      ]
    },
    {
      "cell_type": "code",
      "execution_count": null,
      "metadata": {
        "id": "Eb9PFks_E6EC"
      },
      "outputs": [],
      "source": [
        "os.environ['KAGGLE_USERNAME'] = \"xxx\"\n",
        "os.environ['KAGGLE_KEY'] = \"xxx\"\n",
        "!kaggle competitions download -c jigsaw-toxic-severity-rating\n",
        "!kaggle competitions download -c jigsaw-toxic-comment-classification-challenge\n",
        "!kaggle datasets download -d rajkumarl/ruddit-jigsaw-dataset\n",
        "\n",
        "!unzip /content/jigsaw-toxic-severity-rating.zip -d jigsaw-toxic-severity-rating/\n",
        "!unzip /content/jigsaw-toxic-comment-classification-challenge.zip -d jigsaw-toxic-comment-classification-challenge/\n",
        "!unzip /content/ruddit-jigsaw-dataset.zip -d ruddit-jigsaw-dataset/"
      ]
    },
    {
      "cell_type": "code",
      "execution_count": 5,
      "metadata": {
        "id": "FraztbuJE8F6"
      },
      "outputs": [],
      "source": [
        "hol_data_link = 'https://github.com/t-davidson/hate-speech-and-offensive-language/blob/master/data/labeled_data.csv?raw=true'\n",
        "ethos_data_link = 'https://github.com/intelligence-csd-auth-gr/Ethos-Hate-Speech-Dataset/blob/master/ethos/ethos_data/Ethos_Dataset_Binary.csv?raw=true'"
      ]
    },
    {
      "cell_type": "code",
      "execution_count": 6,
      "metadata": {
        "id": "Ue0udwZjE9Mj"
      },
      "outputs": [],
      "source": [
        "twitter = pd.read_csv(hol_data_link, index_col = 0)\n",
        "ethos = pd.read_csv(ethos_data_link, sep = ';')\n",
        "ruddit = pd.read_csv('/content/ruddit-jigsaw-dataset/Dataset/ruddit_with_text.csv')[['txt', 'offensiveness_score']]\n",
        "toxkaggle = pd.read_csv('/content/jigsaw-toxic-comment-classification-challenge/train.csv.zip')"
      ]
    },
    {
      "cell_type": "code",
      "source": [
        "val_data = pd.read_csv(\"/content/jigsaw-toxic-severity-rating/validation_data.csv\")\n",
        "pred_data = pd.read_csv(\"/content/jigsaw-toxic-severity-rating/comments_to_score.csv\")\n",
        "eval_data = pd.read_csv(\"/content/jigsaw-toxic-severity-rating/leaderboard.csv\")\n",
        "eval_data = eval_data.loc[(eval_data['left_comment_id'].isin(pred_data.comment_id)) &\n",
        "                (eval_data['right_comment_id'].isin(pred_data.comment_id))].reset_index(drop=True)"
      ],
      "metadata": {
        "id": "Okp7EQ0feGzE"
      },
      "execution_count": null,
      "outputs": []
    },
    {
      "cell_type": "markdown",
      "metadata": {
        "id": "8l0c2ovQN76z"
      },
      "source": [
        "Data preprocessing\n",
        "---------"
      ]
    },
    {
      "cell_type": "markdown",
      "source": [
        "Adjust Twitter specific words/symbols"
      ],
      "metadata": {
        "id": "cbk0K8ipdpND"
      }
    },
    {
      "cell_type": "code",
      "execution_count": 8,
      "metadata": {
        "id": "ByrJ0Ocdkyd9"
      },
      "outputs": [],
      "source": [
        "def preprocess_tweets(tweet):\n",
        "    new_tweet = []\n",
        "    tokenizer = TweetTokenizer()\n",
        "    tweet = tokenizer.tokenize(tweet)\n",
        "    for word in tweet:\n",
        "        word = '@user' if word.startswith('@') and len(word) > 1 else word\n",
        "        word = 'http' if word.startswith('http') else word\n",
        "        new_tweet.append(word)\n",
        "    return \" \".join(new_tweet)"
      ]
    },
    {
      "cell_type": "code",
      "execution_count": 9,
      "metadata": {
        "id": "-bGtJTzAE9wK"
      },
      "outputs": [],
      "source": [
        "twitter.loc[twitter['class'] == 2, 'class'] = 1\n",
        "twitter = twitter.rename(columns={\"tweet\": \"text\", \"class\": \"label\"})\n",
        "twitter['text'] = twitter['text'].apply(preprocess_tweets) # remove Twitter specific parts \n",
        "twitter = twitter[['text', 'label']]\n",
        "\n",
        "ethos = ethos.rename(columns={\"comment\": \"text\", \"isHate\": \"label\"})\n",
        "ethos = ethos.astype({'label': 'int32'})[['label', 'text']]\n",
        "\n",
        "ruddit = ruddit.loc[ruddit.txt != '[deleted]']\n",
        "ruddit = ruddit.loc[ruddit.txt != '[removed]']\n",
        "ruddit = ruddit.rename(columns={'txt':'text', 'offensiveness_score':'label'})\n",
        "ruddit['label'] = round((ruddit[\"label\"] + 1.) / 2., 0)\n",
        "\n",
        "toxkaggle['label'] = round(toxkaggle.loc[:,'toxic':].sum(axis=1)/6, 0)\n",
        "toxkaggle = toxkaggle.rename(columns={'comment_text':'text'})\n",
        "toxkaggle = toxkaggle[['text', 'label']]\n",
        "\n",
        "train_data = pd.concat([ruddit, twitter, ethos, toxkaggle]) "
      ]
    },
    {
      "cell_type": "markdown",
      "source": [
        "Plot most common words\n"
      ],
      "metadata": {
        "id": "Bo8Fi3L-dcpy"
      }
    },
    {
      "cell_type": "code",
      "execution_count": 10,
      "metadata": {
        "id": "mqZABBcqE9yy"
      },
      "outputs": [],
      "source": [
        "data = \" \".join(train_data['text']).split(' ')\n",
        "fdist = nltk.FreqDist(data)\n",
        "most_common_words = pd.DataFrame(fdist.most_common(11), columns=['word', 'count'])\n",
        "most_common_words = most_common_words.loc[most_common_words.word != '']"
      ]
    },
    {
      "cell_type": "code",
      "execution_count": 11,
      "metadata": {
        "id": "lvaSS5MoE91Z",
        "colab": {
          "base_uri": "https://localhost:8080/",
          "height": 517
        },
        "outputId": "a3d67b96-f18b-4ebe-9dfc-5d95036f0df7"
      },
      "outputs": [
        {
          "output_type": "execute_result",
          "data": {
            "text/plain": [
              "[]"
            ]
          },
          "metadata": {},
          "execution_count": 11
        },
        {
          "output_type": "display_data",
          "data": {
            "text/plain": [
              "<Figure size 720x576 with 1 Axes>"
            ],
            "image/png": "[encoded data removed]"
          },
          "metadata": {
            "needs_background": "light"
          }
        }
      ],
      "source": [
        "fig, ax = plt.subplots(figsize=(10,8))\n",
        "sns.barplot(x=most_common_words['word'], y=most_common_words['count'], ax=ax, palette=sns.color_palette(\"hls\", 8), alpha=0.8)\n",
        "plt.tick_params(axis='both', which='major', labelsize=12)\n",
        "plt.plot()"
      ]
    },
    {
      "cell_type": "markdown",
      "source": [
        "Remove stopwords"
      ],
      "metadata": {
        "id": "-COlZm9PdkMr"
      }
    },
    {
      "cell_type": "code",
      "execution_count": 12,
      "metadata": {
        "id": "J8ApY6x2E94c"
      },
      "outputs": [],
      "source": [
        "def remove_stopwords(text, stopwords):\n",
        "  text = [word for word in text.split(' ') if word.lower() not in stopwords]\n",
        "  return \" \".join(text)"
      ]
    },
    {
      "cell_type": "code",
      "execution_count": 13,
      "metadata": {
        "colab": {
          "base_uri": "https://localhost:8080/",
          "height": 204
        },
        "id": "OP_QL1guE96s",
        "outputId": "a93c1ae0-204e-409a-cc9f-ab59b7c9e091"
      },
      "outputs": [
        {
          "output_type": "execute_result",
          "data": {
            "text/plain": [
              "                                                text  label\n",
              "0  > difference average earnings men women explai...    0.0\n",
              "1            myth \"gap\" entirely based sex  person.     0.0\n",
              "3  assertion women get paid less *same* jobs, get...    0.0\n",
              "4  said OP that's they're measuring. They're meas...    0.0\n",
              "5  >Men women payed less job\\n\\nI think many peop...    0.0"
            ],
            "text/html": [
              "\n",
              "  <div id=\"df-d824cd71-32e8-4047-baf1-e650f2c0a9cb\">\n",
              "    <div class=\"colab-df-container\">\n",
              "      <div>\n",
              "<style scoped>\n",
              "    .dataframe tbody tr th:only-of-type {\n",
              "        vertical-align: middle;\n",
              "    }\n",
              "\n",
              "    .dataframe tbody tr th {\n",
              "        vertical-align: top;\n",
              "    }\n",
              "\n",
              "    .dataframe thead th {\n",
              "        text-align: right;\n",
              "    }\n",
              "</style>\n",
              "<table border=\"1\" class=\"dataframe\">\n",
              "  <thead>\n",
              "    <tr style=\"text-align: right;\">\n",
              "      <th></th>\n",
              "      <th>text</th>\n",
              "      <th>label</th>\n",
              "    </tr>\n",
              "  </thead>\n",
              "  <tbody>\n",
              "    <tr>\n",
              "      <th>0</th>\n",
              "      <td>&gt; difference average earnings men women explai...</td>\n",
              "      <td>0.0</td>\n",
              "    </tr>\n",
              "    <tr>\n",
              "      <th>1</th>\n",
              "      <td>myth \"gap\" entirely based sex  person.</td>\n",
              "      <td>0.0</td>\n",
              "    </tr>\n",
              "    <tr>\n",
              "      <th>3</th>\n",
              "      <td>assertion women get paid less *same* jobs, get...</td>\n",
              "      <td>0.0</td>\n",
              "    </tr>\n",
              "    <tr>\n",
              "      <th>4</th>\n",
              "      <td>said OP that's they're measuring. They're meas...</td>\n",
              "      <td>0.0</td>\n",
              "    </tr>\n",
              "    <tr>\n",
              "      <th>5</th>\n",
              "      <td>&gt;Men women payed less job\\n\\nI think many peop...</td>\n",
              "      <td>0.0</td>\n",
              "    </tr>\n",
              "  </tbody>\n",
              "</table>\n",
              "</div>\n",
              "      <button class=\"colab-df-convert\" onclick=\"convertToInteractive('df-d824cd71-32e8-4047-baf1-e650f2c0a9cb')\"\n",
              "              title=\"Convert this dataframe to an interactive table.\"\n",
              "              style=\"display:none;\">\n",
              "        \n",
              "  <svg xmlns=\"http://www.w3.org/2000/svg\" height=\"24px\"viewBox=\"0 0 24 24\"\n",
              "       width=\"24px\">\n",
              "    <path d=\"M0 0h24v24H0V0z\" fill=\"none\"/>\n",
              "    <path d=\"M18.56 5.44l.94 2.06.94-2.06 2.06-.94-2.06-.94-.94-2.06-.94 2.06-2.06.94zm-11 1L8.5 8.5l.94-2.06 2.06-.94-2.06-.94L8.5 2.5l-.94 2.06-2.06.94zm10 10l.94 2.06.94-2.06 2.06-.94-2.06-.94-.94-2.06-.94 2.06-2.06.94z\"/><path d=\"M17.41 7.96l-1.37-1.37c-.4-.4-.92-.59-1.43-.59-.52 0-1.04.2-1.43.59L10.3 9.45l-7.72 7.72c-.78.78-.78 2.05 0 2.83L4 21.41c.39.39.9.59 1.41.59.51 0 1.02-.2 1.41-.59l7.78-7.78 2.81-2.81c.8-.78.8-2.07 0-2.86zM5.41 20L4 18.59l7.72-7.72 1.47 1.35L5.41 20z\"/>\n",
              "  </svg>\n",
              "      </button>\n",
              "      \n",
              "  <style>\n",
              "    .colab-df-container {\n",
              "      display:flex;\n",
              "      flex-wrap:wrap;\n",
              "      gap: 12px;\n",
              "    }\n",
              "\n",
              "    .colab-df-convert {\n",
              "      background-color: #E8F0FE;\n",
              "      border: none;\n",
              "      border-radius: 50%;\n",
              "      cursor: pointer;\n",
              "      display: none;\n",
              "      fill: #1967D2;\n",
              "      height: 32px;\n",
              "      padding: 0 0 0 0;\n",
              "      width: 32px;\n",
              "    }\n",
              "\n",
              "    .colab-df-convert:hover {\n",
              "      background-color: #E2EBFA;\n",
              "      box-shadow: 0px 1px 2px rgba(60, 64, 67, 0.3), 0px 1px 3px 1px rgba(60, 64, 67, 0.15);\n",
              "      fill: #174EA6;\n",
              "    }\n",
              "\n",
              "    [theme=dark] .colab-df-convert {\n",
              "      background-color: #3B4455;\n",
              "      fill: #D2E3FC;\n",
              "    }\n",
              "\n",
              "    [theme=dark] .colab-df-convert:hover {\n",
              "      background-color: #434B5C;\n",
              "      box-shadow: 0px 1px 3px 1px rgba(0, 0, 0, 0.15);\n",
              "      filter: drop-shadow(0px 1px 2px rgba(0, 0, 0, 0.3));\n",
              "      fill: #FFFFFF;\n",
              "    }\n",
              "  </style>\n",
              "\n",
              "      <script>\n",
              "        const buttonEl =\n",
              "          document.querySelector('#df-d824cd71-32e8-4047-baf1-e650f2c0a9cb button.colab-df-convert');\n",
              "        buttonEl.style.display =\n",
              "          google.colab.kernel.accessAllowed ? 'block' : 'none';\n",
              "\n",
              "        async function convertToInteractive(key) {\n",
              "          const element = document.querySelector('#df-d824cd71-32e8-4047-baf1-e650f2c0a9cb');\n",
              "          const dataTable =\n",
              "            await google.colab.kernel.invokeFunction('convertToInteractive',\n",
              "                                                     [key], {});\n",
              "          if (!dataTable) return;\n",
              "\n",
              "          const docLinkHtml = 'Like what you see? Visit the ' +\n",
              "            '<a target=\"_blank\" href=https://colab.research.google.com/notebooks/data_table.ipynb>data table notebook</a>'\n",
              "            + ' to learn more about interactive tables.';\n",
              "          element.innerHTML = '';\n",
              "          dataTable['output_type'] = 'display_data';\n",
              "          await google.colab.output.renderOutput(dataTable, element);\n",
              "          const docLink = document.createElement('div');\n",
              "          docLink.innerHTML = docLinkHtml;\n",
              "          element.appendChild(docLink);\n",
              "        }\n",
              "      </script>\n",
              "    </div>\n",
              "  </div>\n",
              "  "
            ]
          },
          "metadata": {},
          "execution_count": 13
        }
      ],
      "source": [
        "en_stopwords = stopwords.words('english')\n",
        "train_data['text'] = train_data['text'].apply(remove_stopwords, args=(en_stopwords,))\n",
        "train_data.head()"
      ]
    },
    {
      "cell_type": "markdown",
      "source": [
        "Ratio of non-toxic/toxic comments in final train dataset"
      ],
      "metadata": {
        "id": "sZqh77-AdxRG"
      }
    },
    {
      "cell_type": "code",
      "execution_count": 14,
      "metadata": {
        "colab": {
          "base_uri": "https://localhost:8080/"
        },
        "id": "0vi70igcFIFd",
        "outputId": "849f0630-21b9-4efa-a900-84fc5ed34644"
      },
      "outputs": [
        {
          "output_type": "execute_result",
          "data": {
            "text/plain": [
              "0.0    163058\n",
              "1.0     28004\n",
              "Name: label, dtype: int64"
            ]
          },
          "metadata": {},
          "execution_count": 14
        }
      ],
      "source": [
        "train_data['label'].value_counts() "
      ]
    },
    {
      "cell_type": "markdown",
      "metadata": {
        "id": "EOGp5r27N_h2"
      },
      "source": [
        "Dataset and Model classes\n",
        "---------"
      ]
    },
    {
      "cell_type": "code",
      "execution_count": 15,
      "metadata": {
        "id": "9Z8LGs5awQ8y"
      },
      "outputs": [],
      "source": [
        "class ToxicRankDataset(Dataset):\n",
        "    def __init__(self, data, tokenizer, max_len):\n",
        "        self._data=data\n",
        "        self.tokenizer=tokenizer\n",
        "        self.max_len=max_len\n",
        "    def __len__(self):\n",
        "        return len(self._data)\n",
        "    def __getitem__(self, index):\n",
        "        tokenized = self.tokenizer(text=self._data['text'].values[index],\n",
        "                                   padding='max_length',\n",
        "                                   truncation=True,\n",
        "                                   max_length=self.max_len,\n",
        "                                   return_tensors='pt')\n",
        "        \n",
        "        if 'label' not in self._data.columns:\n",
        "          return tokenized['input_ids'].squeeze(), tokenized['attention_mask'].squeeze(), tokenized['token_type_ids'].squeeze()\n",
        "\n",
        "        target = self._data['label'].values[index]\n",
        "        return tokenized['input_ids'].squeeze(), tokenized['attention_mask'].squeeze(), tokenized['token_type_ids'].squeeze(), target"
      ]
    },
    {
      "cell_type": "code",
      "source": [
        "class ToxicRankRoBERTa(nn.Module):\n",
        "    def __init__(self, model_name):\n",
        "        super(ToxicRankRoBERTa, self).__init__()\n",
        "        config = AutoConfig.from_pretrained(model_name)\n",
        "        self.model = AutoModel.from_pretrained(model_name)\n",
        "        self.classifier = nn.Linear(config.hidden_size, 1)\n",
        "  \n",
        "    def forward(self, input_ids, attention_mask=None, token_type_ids=None):\n",
        "        outputs = self.model(input_ids, attention_mask=attention_mask, token_type_ids=token_type_ids)\n",
        "        classification_output = outputs[1]\n",
        "        logits = self.classifier(classification_output)\n",
        "        return logits\n",
        "\n",
        "\n",
        "class ToxicRankDeBERTa(nn.Module):\n",
        "    def __init__(self, model_name):\n",
        "        super(ToxicRankDeBERTa, self).__init__()\n",
        "        config = AutoConfig.from_pretrained(model_name)\n",
        "        self.model = AutoModel.from_pretrained(model_name)\n",
        "        self.pooler = ContextPooler(config)\n",
        "        output_dim = self.pooler.output_dim\n",
        "        self.classifier = nn.Linear(output_dim, 1)\n",
        "  \n",
        "    def forward(self, input_ids, attention_mask=None, token_type_ids=None):\n",
        "        outputs = self.model(input_ids, attention_mask=attention_mask, token_type_ids=token_type_ids)\n",
        "        encoder_layer = outputs[0]\n",
        "        pooled_output = self.pooler(encoder_layer)\n",
        "        logits = self.classifier(pooled_output)\n",
        "        return logits"
      ],
      "metadata": {
        "id": "NigpPmZh3IlU"
      },
      "execution_count": 16,
      "outputs": []
    },
    {
      "cell_type": "markdown",
      "metadata": {
        "id": "eiqGtCN2qC1A"
      },
      "source": [
        "Training and evaluation\n",
        "---------"
      ]
    },
    {
      "cell_type": "code",
      "execution_count": 17,
      "metadata": {
        "id": "GvcIOWL9MRxY"
      },
      "outputs": [],
      "source": [
        "def eval(model, dataloader):\n",
        "  preds = []\n",
        "  model.eval()\n",
        "  for step, (batch_input_ids, batch_attention_mask) in enumerate(dataloader):\n",
        "    with torch.no_grad():\n",
        "              outputs = model(batch_input_ids, batch_attention_mask).view(-1)\n",
        "              predictions = outputs.sigmoid()\n",
        "              preds.append(predictions.cpu().data.numpy())\n",
        "  return np.concatenate(preds).ravel()"
      ]
    },
    {
      "cell_type": "code",
      "execution_count": 18,
      "metadata": {
        "id": "zsNhfkwPOIqV"
      },
      "outputs": [],
      "source": [
        "def inference(ranks_data, eval_data):\n",
        "    scores = []\n",
        "    ranks = pd.Series(ranks_data['rank'].values, index=ranks_data.comment_id).to_dict()\n",
        "\n",
        "    for index, row in eval_data.iterrows():\n",
        "      scores.append(ranks[row['left_comment_id']] < ranks[row['right_comment_id']])\n",
        "      \n",
        "    return np.mean(scores)"
      ]
    },
    {
      "cell_type": "code",
      "execution_count": 20,
      "metadata": {
        "id": "5swZmPbNMAEw"
      },
      "outputs": [],
      "source": [
        "def train_and_eval(config, train_data, val_data, pred_data, eval_data, roberta=False):\n",
        "\n",
        "  accelerator = Accelerator(fp16 = True)\n",
        "\n",
        "  tokenizer = AutoTokenizer.from_pretrained(config['model_name'])\n",
        "  train = ToxicRankDataset(train_data, tokenizer, config['train_max_len'])\n",
        "  \n",
        "  train_dataloader = DataLoader(dataset=train,\n",
        "                                  shuffle=True,\n",
        "                                  batch_size=config['train_batch_size'],\n",
        "                                  num_workers=config['dataloader_num_workers'],\n",
        "                                  pin_memory=True)\n",
        "\n",
        "  gradient_accumulation_steps = config['gradient_accumulation_steps']\n",
        "  num_train_epochs = config['num_train_epochs']\n",
        "\n",
        "  num_update_steps_per_epoch = math.ceil(len(train_dataloader) / gradient_accumulation_steps)\n",
        "  max_train_steps = num_train_epochs * num_update_steps_per_epoch\n",
        "\n",
        "  if roberta:\n",
        "    model = ToxicRankRoBERTa(config['model_name'])\n",
        "  else:\n",
        "    model = ToxicRankDeBERTa(config['model_name'])\n",
        "\n",
        "  criterion = nn.BCEWithLogitsLoss()\n",
        "  optimizer = torch.optim.Adam(model.parameters(), lr=config['learning_rate'])\n",
        "  lr_scheduler = get_scheduler(\n",
        "        name=config['lr_scheduler_type'],\n",
        "        optimizer=optimizer,\n",
        "        num_warmup_steps=config['num_warmup_steps'],\n",
        "        num_training_steps=max_train_steps,\n",
        "    )\n",
        "\n",
        "  # Prepare everything with accelerator.\n",
        "  train_dataloader, model, optimizer, scheduler = accelerator.prepare(train_dataloader, model, optimizer, lr_scheduler)\n",
        "\n",
        "  # Recalculate total training steps as the size of the training dataloader may have changed.\n",
        "  num_update_steps_per_epoch = math.ceil(len(train_dataloader) / gradient_accumulation_steps)\n",
        "  max_train_steps = num_train_epochs * num_update_steps_per_epoch\n",
        "\n",
        "  # Training\n",
        "  completed_steps = 0\n",
        "  train_loss = []\n",
        "  progress_bar = tqdm(range(max_train_steps))\n",
        "\n",
        "  for epoch in range(num_train_epochs):\n",
        "        model.train()\n",
        "        for step, (batch_input_ids, batch_attention_mask, batch_token_type_ids, batch_target) in enumerate(train_dataloader):\n",
        "            with accelerator.autocast():\n",
        "                logits = model(batch_input_ids, batch_attention_mask, batch_token_type_ids).view(-1)\n",
        "                loss = criterion(logits, batch_target)\n",
        "\n",
        "            loss = loss / gradient_accumulation_steps\n",
        "            accelerator.backward(loss)\n",
        "\n",
        "            if step % gradient_accumulation_steps == 0 or step == len(train_dataloader) - 1:\n",
        "                optimizer.step()\n",
        "                lr_scheduler.step()\n",
        "                optimizer.zero_grad()\n",
        "                progress_bar.update(1)\n",
        "                completed_steps += 1\n",
        "\n",
        "            if completed_steps >= max_train_steps:\n",
        "                break  \n",
        "\n",
        "            train_loss.append(loss)\n",
        "\n",
        "  # Validation\n",
        "  less_toxic = val_data[['less_toxic']].rename(columns={'less_toxic':'text'})\n",
        "  more_toxic = val_data[['more_toxic']].rename(columns={'more_toxic':'text'})\n",
        "\n",
        "\n",
        "  less_toxic = ToxicRankDataset(less_toxic, tokenizer, config['val_max_len'])\n",
        "  less_toxic_dataloader = DataLoader(dataset=less_toxic,\n",
        "                                shuffle=True,\n",
        "                                batch_size=config['val_batch_size'],\n",
        "                                num_workers=config['dataloader_num_workers'],\n",
        "                                pin_memory=True)\n",
        "  \n",
        "  less_toxic_dataloader = accelerator.prepare(less_toxic_dataloader)\n",
        "  less_toxic_preds = eval(model, less_toxic_dataloader, accelerator)\n",
        "  less_toxic_preds = less_toxic_preds[:len(less_toxic_dataloader.dataset)]\n",
        "\n",
        "\n",
        "  more_toxic = ToxicRankDataset(more_toxic, tokenizer, config['val_max_len'])\n",
        "  more_toxic_dataloader = DataLoader(dataset=more_toxic,\n",
        "                                  shuffle=True,\n",
        "                                  batch_size=config['val_batch_size'],\n",
        "                                  num_workers=config['dataloader_num_workers'],\n",
        "                                  pin_memory=True)\n",
        "  \n",
        "  more_toxic_dataloader = accelerator.prepare(more_toxic_dataloader)\n",
        "  more_toxic_preds = eval(model, more_toxic_dataloader, accelerator)\n",
        "  more_toxic_preds = more_toxic_preds[:len(more_toxic_dataloader.dataset)]\n",
        "\n",
        "  val_score = np.mean(less_toxic_preds < more_toxic_preds)\n",
        "\n",
        "\n",
        "  # Evaluation\n",
        "  pred = ToxicRankDataset(pred_data, tokenizer, config['eval_max_len'])\n",
        "  pred_dataloader = DataLoader(dataset=pred,\n",
        "                                shuffle=True,\n",
        "                                batch_size=config['eval_batch_size'],\n",
        "                                num_workers=config['dataloader_num_workers'],\n",
        "                                pin_memory=True)\n",
        "  \n",
        "  pred_dataloader = accelerator.prepare(pred_dataloader)\n",
        "  preds = eval(model, pred_dataloader, accelerator)\n",
        "  preds = preds[:len(pred_dataloader.dataset)]\n",
        "\n",
        "  ranks = preds.argsort()\n",
        "  ranks_data = pd.DataFrame(data={'comment_id': pred_data['comment_id'], 'rank': ranks})\n",
        "  eval_score = inference(ranks_data, eval_data)\n",
        "\n",
        "  return train_loss, val_score, eval_score, ranks_data"
      ]
    },
    {
      "cell_type": "code",
      "source": [
        "CONFIG = {\"model_name\" : 'roberta-base',\n",
        "\n",
        "          \"train_max_len\": 192,\n",
        "          \"val_max_len\": 192,\n",
        "          \"eval_max_len\": 256,\n",
        "\n",
        "          \"train_batch_size\": 64,\n",
        "          \"val_batch_size\": 32,\n",
        "          \"eval_batch_size\": 16,\n",
        "\n",
        "          \"dataloader_num_workers\": 4,\n",
        "\n",
        "          \"learning_rate\": 5e-5,\n",
        "          \"num_train_epochs\": 4,\n",
        "          \"gradient_accumulation_steps\": 6,\n",
        "          \"lr_scheduler_type\": \"linear\", \n",
        "          \"num_warmup_steps\": 2,\n",
        "\n",
        "}\n",
        "\n",
        "roberta_base_train_loss, roberta_base_val_score, roberta_base_eval_score, roberta_ranks_data = train_and_eval(CONFIG, train_data, \n",
        "                                                                                          val_data, pred_data, eval_data, roberta=True)"
      ],
      "metadata": {
        "id": "AAwPzSAB_W3E"
      },
      "execution_count": null,
      "outputs": []
    },
    {
      "cell_type": "code",
      "source": [
        "CONFIG = {\"model_name\" : 'cardiffnlp/twitter-roberta-base-hate',\n",
        "\n",
        "          \"train_max_len\": 200,\n",
        "          \"val_max_len\": 192,\n",
        "          \"eval_max_len\": 256,\n",
        "\n",
        "          \"train_batch_size\": 16,\n",
        "          \"val_batch_size\": 8,\n",
        "          \"eval_batch_size\": 8,\n",
        "\n",
        "          \"dataloader_num_workers\": 4,\n",
        "\n",
        "          \"learning_rate\": 1e-5,\n",
        "          \"num_train_epochs\": 3,\n",
        "          \"gradient_accumulation_steps\": 4,\n",
        "          \"lr_scheduler_type\": \"linear\", \n",
        "          \"num_warmup_steps\": 2,\n",
        "\n",
        "}\n",
        "\n",
        "roberta_hate_train_loss, roberta_hate_val_score, roberta_hate_eval_score = train_and_eval(CONFIG, train_data, \n",
        "                                                                                          val_data, pred_data, eval_data, roberta=True)"
      ],
      "metadata": {
        "id": "rdvZDHbs_dZT"
      },
      "execution_count": null,
      "outputs": []
    },
    {
      "cell_type": "code",
      "source": [
        "CONFIG = {\"model_name\" : 'microsoft/deberta-base',\n",
        "\n",
        "          \"train_max_len\": 150,\n",
        "          \"val_max_len\": 200,\n",
        "          \"eval_max_len\": 200,\n",
        "\n",
        "          \"train_batch_size\": 16,\n",
        "          \"val_batch_size\": 16,\n",
        "          \"eval_batch_size\": 16,\n",
        "\n",
        "          \"dataloader_num_workers\": 4,\n",
        "\n",
        "          \"learning_rate\": 3e-5,\n",
        "          \"num_train_epochs\": 3,\n",
        "          \"gradient_accumulation_steps\": 8,\n",
        "          \"lr_scheduler_type\": \"linear\", \n",
        "          \"num_warmup_steps\": 2,\n",
        "\n",
        "}\n",
        "\n",
        "deberta_base_train_loss, deberta_base_val_score, deberta_base_eval_score, deberta_ranks_data = train_and_eval(CONFIG, train_data, \n",
        "                                                                                          val_data, pred_data, eval_data, roberta=False)"
      ],
      "metadata": {
        "id": "NJBp1klJ_d8M"
      },
      "execution_count": null,
      "outputs": []
    },
    {
      "cell_type": "code",
      "execution_count": null,
      "metadata": {
        "id": "52zST7AzYqZX"
      },
      "outputs": [],
      "source": [
        "CONFIG = {\"model_name\" : 'Narrativaai/deberta-v3-small-finetuned-hate_speech18',\n",
        "\n",
        "          \"train_max_len\": 256,\n",
        "          \"val_max_len\": 256,\n",
        "          \"eval_max_len\": 256,\n",
        "\n",
        "          \"train_batch_size\": 32,\n",
        "          \"val_batch_size\": 16,\n",
        "          \"eval_batch_size\": 16,\n",
        "\n",
        "          \"dataloader_num_workers\": 4,\n",
        "\n",
        "          \"learning_rate\": 2e-5,\n",
        "          \"num_train_epochs\": 5,\n",
        "          \"gradient_accumulation_steps\": 2,\n",
        "          \"lr_scheduler_type\": \"linear\", \n",
        "          \"num_warmup_steps\": 2,\n",
        "\n",
        "}\n",
        "\n",
        "deberta_small_train_loss, deberta_small_val_score, deberta_small_eval_score, deberta_small_ranks_data = train_and_eval(CONFIG, train_data, \n",
        "                                                                                          val_data, pred_data, eval_data, roberta=False)"
      ]
    }
  ],
  "metadata": {
    "accelerator": "GPU",
    "colab": {
      "collapsed_sections": [],
      "name": "Копия блокнота \"Копия блокнота \"MN.ipynb\"\"",
      "provenance": []
    },
    "kernelspec": {
      "display_name": "Python 3",
      "name": "python3"
    },
    "language_info": {
      "name": "python"
    }
  },
  "nbformat": 4,
  "nbformat_minor": 0
}